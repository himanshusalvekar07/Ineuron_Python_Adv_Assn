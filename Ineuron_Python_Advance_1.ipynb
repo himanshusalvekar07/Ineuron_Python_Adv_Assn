{
 "cells": [
  {
   "cell_type": "markdown",
   "id": "95051a39",
   "metadata": {},
   "source": [
    "## Q1. What is the purpose of Python's OOP?"
   ]
  },
  {
   "cell_type": "markdown",
   "id": "65461000",
   "metadata": {},
   "source": [
    "Ans: Object-oriented programming is a programming paradigm that provides a means of structuring programs so that properties and behaviors are bundled into individual objects\n",
    "\n",
    "1.In Python, object-oriented Programming (OOPs) uses objects and classes in programming. 2.It aims to implement real-world entities like inheritance, polymorphisms, encapsulation, etc. in the programming. 3.The main concept of OOPs is to bind the data and the functions that work on that together as a single unit so that no other part of the code can access this data. 4.It comes up with the following advantages: 5.It helps to divide our over all program into different small segments and thus making it solving easy with the use of objects 6.Helps in easy maintenance and modification of existing program 7.Multiple instances of an object can be made."
   ]
  },
  {
   "cell_type": "markdown",
   "id": "6925de2d",
   "metadata": {},
   "source": [
    "## Q2. Where does an inheritance search look for an attribute?"
   ]
  },
  {
   "cell_type": "markdown",
   "id": "ccad9e11",
   "metadata": {},
   "source": [
    "Ans: Python searches for an attribute in an upward tree of attributes. it first searches for the attribute in its instance and then looks in the class it is generated from, to all super classes listed in its class header"
   ]
  },
  {
   "cell_type": "markdown",
   "id": "ca9e4860",
   "metadata": {},
   "source": [
    "## Q3. How do you distinguish between a class object and an instance object?"
   ]
  },
  {
   "cell_type": "markdown",
   "id": "051cbd90",
   "metadata": {},
   "source": [
    "Ans: The differences between a class object and an instance object are:\n",
    "\n",
    "1.Class is a template for creating objects whereas object is an instance of class 2.Seperate memory is allocated for each object whenever an object is created. but for a class this doesnot happens. 3.A Class is created once. Many objects are created using a class. As Classes have no allocated memory. they can't be manipulated. but objects can be manipulated."
   ]
  },
  {
   "cell_type": "markdown",
   "id": "3a3d24eb",
   "metadata": {},
   "source": [
    "## Q4. What makes the first argument in a class’s method function special?"
   ]
  },
  {
   "cell_type": "markdown",
   "id": "cd9017af",
   "metadata": {},
   "source": [
    "Ans: Python Classes usually have three types of methods which are:\n",
    "\n",
    "1.Instance Methods (object level methods) 2.Class Methods (class level methods) 3.Static Methods (general utility methods) 4.self is the first argument for instance methods. which refers to the object itself 5.cls is the first argument for class methods which refers to the class itself\n",
    "\n"
   ]
  },
  {
   "cell_type": "markdown",
   "id": "98ae047e",
   "metadata": {},
   "source": [
    "## Q5. What is the purpose of the init method?"
   ]
  },
  {
   "cell_type": "markdown",
   "id": "ac22c68b",
   "metadata": {},
   "source": [
    "Ans: init is a reseved method in python classes. It serves the role of a constructor in object oriented terminology. This method is called when an object is created from a class and it allows the class to initialize the attributes of the class"
   ]
  },
  {
   "cell_type": "markdown",
   "id": "2abcfc2d",
   "metadata": {},
   "source": [
    "## Q6. What is the process for creating a class?"
   ]
  },
  {
   "cell_type": "markdown",
   "id": "b4150b41",
   "metadata": {},
   "source": [
    "Ans: class keyword is used to created a class in python. The syntax to create a class in python is class :\n",
    "\n",
    "Example: class Car: ➞ this creates a class called Car"
   ]
  },
  {
   "cell_type": "markdown",
   "id": "47388f86",
   "metadata": {},
   "source": [
    "## Q7. How would you define the superclasses of a class?"
   ]
  },
  {
   "cell_type": "markdown",
   "id": "bde1f097",
   "metadata": {},
   "source": [
    "Ans Superclass/Parent class is given as a arugment to the child class\n",
    "\n",
    "Example: class Employee(Person): Here child class Employee inherits attributes and methofs from Superclass/Parent Person"
   ]
  },
  {
   "cell_type": "code",
   "execution_count": null,
   "id": "bcb8ecac",
   "metadata": {},
   "outputs": [],
   "source": []
  }
 ],
 "metadata": {
  "kernelspec": {
   "display_name": "Python 3 (ipykernel)",
   "language": "python",
   "name": "python3"
  },
  "language_info": {
   "codemirror_mode": {
    "name": "ipython",
    "version": 3
   },
   "file_extension": ".py",
   "mimetype": "text/x-python",
   "name": "python",
   "nbconvert_exporter": "python",
   "pygments_lexer": "ipython3",
   "version": "3.9.13"
  }
 },
 "nbformat": 4,
 "nbformat_minor": 5
}
